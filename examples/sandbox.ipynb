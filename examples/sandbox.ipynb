{
 "cells": [
  {
   "cell_type": "markdown",
   "metadata": {},
   "source": [
    "# Ramsey-Cass-Koopmans model\n",
    "\n",
    "Ramsey model from Chapter 2 of D. Romer's *Advanced Economics* looks as follows...\n",
    "\n",
    "\\begin{align}\n",
    "    \\dot{k}(t) =& k(t)^{\\alpha} - c(t) - (g + n + \\delta)k(t),\\\\\n",
    "    \\dot{c}(t) =& \\Bigg[\\frac{1}{\\theta} \\bigg[\\alpha k(t)^{\\alpha - 1} - \\delta - \\rho - \\theta g\\bigg]\\Bigg]c(t)\n",
    "\\end{align}\n",
    "...with boundary conditions...\n",
    "\\begin{align}\n",
    "    k(0) =& k_0 \\\\\n",
    "    lim_{t\\rightarrow \\infty} c(t) =& c^*\n",
    "\\end{align}\n",
    "\n",
    "...where...\n",
    "\n",
    "* Elasticity of output with respect to catpial: $0 < \\alpha < 1$\n",
    "* Coefficient of relative risk aversion: $0 < \\theta$\n",
    "* Discount rate: $0 < \\rho$\n",
    "* Breakeven investment: $0 < g + n + \\delta$\n",
    "* Convergent lifetime utility: $0 < \\rho - n - (1 - \\theta)g$\n",
    "\n",
    "Note that we are assuming two things...\n",
    "\n",
    "1. Cobb-Douglas production\n",
    "2. Constant Relative Risk Aversion (CRRA) preferences\n",
    "\n"
   ]
  },
  {
   "cell_type": "code",
   "execution_count": 1,
   "metadata": {
    "collapsed": true
   },
   "outputs": [],
   "source": [
    "%matplotlib inline"
   ]
  },
  {
   "cell_type": "code",
   "execution_count": 3,
   "metadata": {
    "collapsed": true
   },
   "outputs": [],
   "source": [
    "import numpy as np\n",
    "import matplotlib.pyplot as plt\n",
    "import seaborn as sn\n",
    "import sympy as sym\n",
    "\n",
    "import pycollocation"
   ]
  },
  {
   "cell_type": "code",
   "execution_count": 4,
   "metadata": {
    "collapsed": true
   },
   "outputs": [],
   "source": [
    "# define some variables\n",
    "t, k, c = sym.symbols(\"t, k, c\")"
   ]
  },
  {
   "cell_type": "code",
   "execution_count": 7,
   "metadata": {
    "collapsed": false
   },
   "outputs": [],
   "source": [
    "# define some production parameters\n",
    "alpha, delta = sym.symbols(\"alpha, delta\")\n",
    "\n",
    "# define growth rates\n",
    "g, n = sym.symbols(\"g, n\")\n",
    "\n",
    "# define some preference parameters\n",
    "theta, rho = sym.symbols(\"theta, rho\")"
   ]
  },
  {
   "cell_type": "code",
   "execution_count": 9,
   "metadata": {
    "collapsed": false
   },
   "outputs": [
    {
     "name": "stdout",
     "output_type": "stream",
     "text": [
      "k**alpha\n"
     ]
    }
   ],
   "source": [
    "# define a production function\n",
    "f = k**alpha\n",
    "print f"
   ]
  },
  {
   "cell_type": "code",
   "execution_count": 10,
   "metadata": {
    "collapsed": false
   },
   "outputs": [
    {
     "name": "stdout",
     "output_type": "stream",
     "text": [
      "(c**(-theta + 1) - 1)/(-theta + 1)\n"
     ]
    }
   ],
   "source": [
    "# define a flow utility function\n",
    "u = (c**(1 - theta) - 1) / (1 - theta)\n",
    "print u"
   ]
  },
  {
   "cell_type": "code",
   "execution_count": 12,
   "metadata": {
    "collapsed": false
   },
   "outputs": [
    {
     "name": "stdout",
     "output_type": "stream",
     "text": [
      "-c - k*(delta + g + n) + k**alpha\n"
     ]
    }
   ],
   "source": [
    "# define the equation of motion for capital (per unit effective labor)\n",
    "k_dot = f - c - (g + n + delta) * k\n",
    "print k_dot"
   ]
  },
  {
   "cell_type": "code",
   "execution_count": 13,
   "metadata": {
    "collapsed": false
   },
   "outputs": [
    {
     "name": "stdout",
     "output_type": "stream",
     "text": [
      "c*(alpha*k**(alpha - 1) - delta - g*theta - rho)/theta\n"
     ]
    }
   ],
   "source": [
    "# define the Euler equation\n",
    "c_dot = ((1 / theta) * (alpha * k**(alpha - 1) - delta - rho - theta * g)) * c\n",
    "print c_dot"
   ]
  },
  {
   "cell_type": "code",
   "execution_count": 40,
   "metadata": {
    "collapsed": false
   },
   "outputs": [
    {
     "name": "stdout",
     "output_type": "stream",
     "text": [
      "{'k': -c - k*(delta + g + n) + k**alpha, 'c': c*(alpha*k**(alpha - 1) - delta - g*theta - rho)/theta}\n"
     ]
    }
   ],
   "source": [
    "# create a dictionary representing the RHS of our model\n",
    "rhs = {'k': k_dot, 'c': c_dot}\n",
    "print rhs"
   ]
  },
  {
   "cell_type": "markdown",
   "metadata": {},
   "source": [
    "## Boundary conditions\n",
    "Now we need to derive the steady state value for capital and consumption (per unit effective labor)...\n",
    "\\begin{align}\n",
    "    0 =& k(t)^{\\alpha} - c(t) - (g + n + \\delta)k(t),\\\\\n",
    "    0 =& \\Bigg[\\frac{1}{\\theta} \\bigg[\\alpha k(t)^{\\alpha - 1} - \\delta - \\rho - \\theta g\\bigg]\\Bigg]c(t)\n",
    "\\end{align}\n",
    "\n",
    "Here we go, first for capital,...\n",
    "\\begin{align}\n",
    "    0 =& \\Bigg[\\frac{1}{\\theta} \\bigg[\\alpha k(t)^{\\alpha - 1} - \\delta - \\rho - \\theta g\\bigg]\\Bigg]c(t) \\\\\n",
    "    0 =& \\alpha k(t)^{\\alpha - 1} - \\delta - \\rho - \\theta g \\\\\n",
    "    \\alpha k(t)^{\\alpha - 1} =& \\delta + \\rho + \\theta g \\\\\n",
    "    k(t)^{\\alpha - 1} =& \\frac{\\delta + \\rho + \\theta g}{\\alpha} \\\\\n",
    "    k^* =& \\Bigg(\\frac{\\delta + \\rho + \\theta g}{\\alpha}\\Bigg)^{\\frac{1}{\\alpha - 1}} \\\\\n",
    "    k^* =& \\Bigg(\\frac{\\alpha}{\\delta + \\rho + \\theta g}\\Bigg)^{\\frac{1}{1 - \\alpha}}\n",
    "\\end{align}"
   ]
  },
  {
   "cell_type": "code",
   "execution_count": 41,
   "metadata": {
    "collapsed": false
   },
   "outputs": [
    {
     "name": "stdout",
     "output_type": "stream",
     "text": [
      "(alpha/(delta + g*theta + rho))**(1/(-alpha + 1))\n"
     ]
    }
   ],
   "source": [
    "# define the steady state value for capital (per unit effective labor)\n",
    "k_star = (alpha / (delta + rho + theta * g))**(1 / (1 - alpha))\n",
    "print k_star"
   ]
  },
  {
   "cell_type": "markdown",
   "metadata": {},
   "source": [
    "...next we do the same for consumption...\n",
    "\n",
    "\\begin{align}\n",
    "    0 =& k^{*\\alpha} - c^* - (g + n + \\delta)k^* \\\\\n",
    "    c^* =& k^{*\\alpha} - (g + n + \\delta)k^*\n",
    "\\end{align}"
   ]
  },
  {
   "cell_type": "code",
   "execution_count": 42,
   "metadata": {
    "collapsed": false
   },
   "outputs": [
    {
     "name": "stdout",
     "output_type": "stream",
     "text": [
      "-(alpha/(delta + g*theta + rho))**(1/(-alpha + 1))*(delta + g + n) + ((alpha/(delta + g*theta + rho))**(1/(-alpha + 1)))**alpha\n"
     ]
    }
   ],
   "source": [
    "# define the steady state value for consumption (per unit effective labor)\n",
    "c_star = k_star**alpha - (g + n + delta) * k_star\n",
    "print c_star"
   ]
  },
  {
   "cell_type": "code",
   "execution_count": 144,
   "metadata": {
    "collapsed": false
   },
   "outputs": [
    {
     "name": "stdout",
     "output_type": "stream",
     "text": [
      "{'upper': [c + (alpha/(delta + g*theta + rho))**(1/(-alpha + 1))*(delta + g + n) - ((alpha/(delta + g*theta + rho))**(1/(-alpha + 1)))**alpha], 'lower': [k - 1.0]}\n"
     ]
    }
   ],
   "source": [
    "# define some boundary conditions\n",
    "k0 = 1.0\n",
    "bcs = {'lower': [k - k0], 'upper': [c - c_star]}\n",
    "print bcs"
   ]
  },
  {
   "cell_type": "code",
   "execution_count": 145,
   "metadata": {
    "collapsed": true
   },
   "outputs": [],
   "source": [
    "# finally we need to define some parameters...\n",
    "params = {'alpha': 0.33, 'delta': 0.04, 'theta': 1.05, 'rho': 0.05,\n",
    "          'g': 0.02, 'n': 0.02}"
   ]
  },
  {
   "cell_type": "markdown",
   "metadata": {},
   "source": [
    "## Using pyCollocation"
   ]
  },
  {
   "cell_type": "code",
   "execution_count": 146,
   "metadata": {
    "collapsed": true
   },
   "outputs": [],
   "source": [
    "model = pycollocation.SymbolicBoundaryValueProblem(dependent_vars=['k', 'c'],\n",
    "                                                   independent_var='t',\n",
    "                                                   rhs=rhs,\n",
    "                                                   boundary_conditions=bcs,\n",
    "                                                   params=params)"
   ]
  },
  {
   "cell_type": "code",
   "execution_count": 147,
   "metadata": {
    "collapsed": true
   },
   "outputs": [],
   "source": [
    "solver = pycollocation.OrthogonalPolynomialSolver(model)"
   ]
  },
  {
   "cell_type": "code",
   "execution_count": 148,
   "metadata": {
    "collapsed": true
   },
   "outputs": [],
   "source": [
    "# numeric version of steady state capital\n",
    "def numeric_k_star(alpha, delta, theta, rho, g, n):\n",
    "    return (alpha / (delta + rho + theta * g))**(1 / (1 - alpha))"
   ]
  },
  {
   "cell_type": "code",
   "execution_count": 149,
   "metadata": {
    "collapsed": false
   },
   "outputs": [
    {
     "data": {
      "text/plain": [
       "5.084580947867504"
      ]
     },
     "execution_count": 149,
     "metadata": {},
     "output_type": "execute_result"
    }
   ],
   "source": [
    "numeric_k_star(**params)"
   ]
  },
  {
   "cell_type": "code",
   "execution_count": 150,
   "metadata": {
    "collapsed": false
   },
   "outputs": [],
   "source": [
    "# define our domain of approximation\n",
    "domain = [0.0, 100.0]\n",
    "\n",
    "# initial guess for capital\n",
    "N = 1000\n",
    "ts = np.linspace(domain[0], domain[1], N)\n",
    "ks = numeric_k_star(**params) - (numeric_k_star(**params) - k0) * np.exp(-ts)\n",
    "initial_capital_polynomial = np.polynomial.Chebyshev.fit(ts, ks, 35, domain)\n",
    "\n",
    "# initial guess for consumption\n",
    "cs = np.log(ks)\n",
    "initial_consumption_polynomial = np.polynomial.Chebyshev.fit(ts, cs, 35, domain)\n",
    "\n",
    "\n",
    "# create a dictionary of the coefs of our polynomials\n",
    "initial_guess = {'k': initial_capital_polynomial.coef,\n",
    "                 'c': initial_consumption_polynomial.coef}"
   ]
  },
  {
   "cell_type": "code",
   "execution_count": 151,
   "metadata": {
    "collapsed": false
   },
   "outputs": [],
   "source": [
    "solver.solve(kind=\"Chebyshev\",\n",
    "             coefs_dict=initial_guess,\n",
    "             domain=domain)"
   ]
  },
  {
   "cell_type": "code",
   "execution_count": 155,
   "metadata": {
    "collapsed": false
   },
   "outputs": [
    {
     "data": {
      "text/plain": [
       "array([  4.37225405e+00,   1.29407761e+00,  -9.72862388e-01,\n",
       "         6.08921291e-01,  -3.18201558e-01,   1.37285311e-01,\n",
       "        -4.62850603e-02,   9.22882149e-03,   2.25265042e-03,\n",
       "        -4.07400446e-03,   3.21211997e-03,  -2.07493839e-03,\n",
       "         1.24105452e-03,  -7.22117259e-04,   4.18592303e-04,\n",
       "        -2.44435865e-04,   1.44396572e-04,  -8.63551433e-05,\n",
       "         5.22449112e-05,  -3.19390928e-05,   1.97071509e-05,\n",
       "        -1.22604932e-05,   7.68428096e-06,  -4.84843707e-06,\n",
       "         3.07792049e-06,  -1.96514198e-06,   1.26162843e-06,\n",
       "        -8.14605212e-07,   5.29424580e-07,  -3.47072252e-07,\n",
       "         2.30581990e-07,  -1.56777980e-07,   1.10980585e-07,\n",
       "        -8.39531494e-08,   4.59638028e-08,  -9.06479082e-09,\n",
       "         1.17873943e+00,   2.28498625e-01,  -1.76366595e-01,\n",
       "         1.16303877e-01,  -6.68076608e-02,   3.42707361e-02,\n",
       "        -1.62089828e-02,   7.36702581e-03,  -3.37782841e-03,\n",
       "         1.63268451e-03,  -8.50106889e-04,   4.74261610e-04,\n",
       "        -2.78167075e-04,   1.68519207e-04,  -1.04250868e-04,\n",
       "         6.54391550e-05,  -4.15333400e-05,   2.65970516e-05,\n",
       "        -1.71602113e-05,   1.11430973e-05,  -7.27662728e-06,\n",
       "         4.77545478e-06,  -3.14799327e-06,   2.08356382e-06,\n",
       "        -1.38419441e-06,   9.22823718e-07,  -6.17385955e-07,\n",
       "         4.14581241e-07,  -2.79623257e-07,   1.89714435e-07,\n",
       "        -1.29870320e-07,   9.02374870e-08,  -6.43794561e-08,\n",
       "         4.78487270e-08,  -3.82339776e-08,   1.72756849e-08])"
      ]
     },
     "execution_count": 155,
     "metadata": {},
     "output_type": "execute_result"
    }
   ],
   "source": [
    "solver.result.x"
   ]
  },
  {
   "cell_type": "code",
   "execution_count": 152,
   "metadata": {
    "collapsed": true
   },
   "outputs": [],
   "source": [
    "# now create a visualizer for plot the solution...\n",
    "visualizer = pycollocation.Visualizer(solver)"
   ]
  },
  {
   "cell_type": "code",
   "execution_count": 153,
   "metadata": {
    "collapsed": false
   },
   "outputs": [
    {
     "data": {
      "image/png": "[encoded data removed]",
      "text/plain": [
       "<matplotlib.figure.Figure at 0x115f1c550>"
      ]
     },
     "metadata": {},
     "output_type": "display_data"
    }
   ],
   "source": [
    "# plot the solution\n",
    "visualizer.interpolation_knots = np.linspace(domain[0], domain[1], N)\n",
    "visualizer.solution.plot()\n",
    "plt.show()"
   ]
  },
  {
   "cell_type": "code",
   "execution_count": 154,
   "metadata": {
    "collapsed": false
   },
   "outputs": [
    {
     "data": {
      "image/png": "[encoded data removed]",
      "text/plain": [
       "<matplotlib.figure.Figure at 0x11b55ee10>"
      ]
     },
     "metadata": {},
     "output_type": "display_data"
    }
   ],
   "source": [
    "# plot the normalized residuals (they should be small everywhere!)\n",
    "visualizer.normalized_residuals.plot(logy=True)\n",
    "plt.show()"
   ]
  },
  {
   "cell_type": "code",
   "execution_count": null,
   "metadata": {
    "collapsed": true
   },
   "outputs": [],
   "source": []
  }
 ],
 "metadata": {
  "kernelspec": {
   "display_name": "Python 2",
   "language": "python",
   "name": "python2"
  },
  "language_info": {
   "codemirror_mode": {
    "name": "ipython",
    "version": 2
   },
   "file_extension": ".py",
   "mimetype": "text/x-python",
   "name": "python",
   "nbconvert_exporter": "python",
   "pygments_lexer": "ipython2",
   "version": "2.7.10"
  }
 },
 "nbformat": 4,
 "nbformat_minor": 0
}
