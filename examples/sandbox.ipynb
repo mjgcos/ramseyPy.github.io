{
 "cells": [
  {
   "cell_type": "markdown",
   "metadata": {},
   "source": [
    "# Ramsey-Cass-Koopmans model\n",
    "\n",
    "Ramsey model from Chapter 2 of D. Romer's *Advanced Economics* looks as follows...\n",
    "\n",
    "\\begin{align}\n",
    "    \\dot{k}(t) =& k(t)^{\\alpha} - c(t) - (g + n + \\delta)k(t),\\\\\n",
    "    \\dot{c}(t) =& \\Bigg[\\frac{1}{\\theta} \\bigg[\\alpha k(t)^{\\alpha - 1} - \\delta - \\rho - \\theta g\\bigg]\\Bigg]c(t)\n",
    "\\end{align}\n",
    "...with boundary conditions...\n",
    "\\begin{align}\n",
    "    k(0) =& k_0 \\\\\n",
    "    lim_{t\\rightarrow \\infty} c(t) =& c^*\n",
    "\\end{align}\n",
    "\n",
    "...where...\n",
    "\n",
    "* Elasticity of output with respect to catpial: $0 < \\alpha < 1$\n",
    "* Coefficient of relative risk aversion: $0 < \\theta$\n",
    "* Discount rate: $0 < \\rho$\n",
    "* Breakeven investment: $0 < g + n + \\delta$\n",
    "* Convergent lifetime utility: $0 < \\rho - n - (1 - \\theta)g$\n",
    "\n",
    "Note that we are assuming two things...\n",
    "\n",
    "1. Cobb-Douglas production\n",
    "2. Constant Relative Risk Aversion (CRRA) preferences\n",
    "\n"
   ]
  },
  {
   "cell_type": "code",
   "execution_count": 1,
   "metadata": {
    "collapsed": true
   },
   "outputs": [],
   "source": [
    "%matplotlib inline"
   ]
  },
  {
   "cell_type": "code",
   "execution_count": 2,
   "metadata": {
    "collapsed": true
   },
   "outputs": [],
   "source": [
    "import numpy as np\n",
    "import matplotlib.pyplot as plt\n",
    "import seaborn as sn\n",
    "import sympy as sym\n",
    "\n",
    "import pycollocation"
   ]
  },
  {
   "cell_type": "code",
   "execution_count": 3,
   "metadata": {
    "collapsed": true
   },
   "outputs": [],
   "source": [
    "# define some variables\n",
    "t, k, c = sym.symbols(\"t, k, c\")"
   ]
  },
  {
   "cell_type": "code",
   "execution_count": 4,
   "metadata": {
    "collapsed": false
   },
   "outputs": [],
   "source": [
    "# define some production parameters\n",
    "alpha, delta = sym.symbols(\"alpha, delta\")\n",
    "\n",
    "# define growth rates\n",
    "g, n = sym.symbols(\"g, n\")\n",
    "\n",
    "# define some preference parameters\n",
    "theta, rho = sym.symbols(\"theta, rho\")"
   ]
  },
  {
   "cell_type": "code",
   "execution_count": 5,
   "metadata": {
    "collapsed": false
   },
   "outputs": [
    {
     "name": "stdout",
     "output_type": "stream",
     "text": [
      "k**alpha\n"
     ]
    }
   ],
   "source": [
    "# define a production function\n",
    "def intensive_output(capital, alpha):\n",
    "    \"\"\"\n",
    "    Intensive output is a function of capital (per unit effective labor)\n",
    "    and model parameters.\n",
    "    \n",
    "    \"\"\"\n",
    "    return capital**alpha\n",
    "\n",
    "# call with symbolic input and get symbolic result!\n",
    "print intensive_output(k, alpha)"
   ]
  },
  {
   "cell_type": "code",
   "execution_count": 6,
   "metadata": {
    "collapsed": false
   },
   "outputs": [
    {
     "name": "stdout",
     "output_type": "stream",
     "text": [
      "2.1379620895\n"
     ]
    }
   ],
   "source": [
    "# call with numeric input and get numeric result...\n",
    "print intensive_output(10.0, 0.33)"
   ]
  },
  {
   "cell_type": "code",
   "execution_count": 7,
   "metadata": {
    "collapsed": false
   },
   "outputs": [
    {
     "name": "stdout",
     "output_type": "stream",
     "text": [
      "[ 0.          2.21360421  2.7825301   3.18089978  3.49767755  3.76495746\n",
      "  3.99843357  4.20709506  4.39662746  4.5708819 ]\n"
     ]
    }
   ],
   "source": [
    "# also works with arrays!\n",
    "ks = np.linspace(0, 100, 10)\n",
    "print intensive_output(ks, 0.33)"
   ]
  },
  {
   "cell_type": "code",
   "execution_count": 8,
   "metadata": {
    "collapsed": false
   },
   "outputs": [
    {
     "name": "stdout",
     "output_type": "stream",
     "text": [
      "(c**(-theta + 1) - 1)/(-theta + 1)\n"
     ]
    }
   ],
   "source": [
    "# define a flow utility function\n",
    "def flow_utility(c, theta):\n",
    "    \"\"\"Flow utility from consumption (per unit effective labor).\"\"\"\n",
    "    return (c**(1 - theta) - 1) / (1 - theta)\n",
    "\n",
    "# symbolic inputs give symbolic outputs...\n",
    "print flow_utility(c, theta)"
   ]
  },
  {
   "cell_type": "code",
   "execution_count": 9,
   "metadata": {
    "collapsed": false
   },
   "outputs": [
    {
     "name": "stdout",
     "output_type": "stream",
     "text": [
      "-c - k*(delta + g + n) + k**alpha\n"
     ]
    }
   ],
   "source": [
    "# define the equation of motion for capital (per unit effective labor)\n",
    "def equation_motion_capital(k, c, alpha, delta, g, n):\n",
    "    \"\"\"Equation of motion for capital (per unit effective labor).\"\"\"\n",
    "    return intensive_output(k, alpha) - c - (g + n + delta) * k\n",
    "\n",
    "# symbolic inputs yield symbolic output!\n",
    "print equation_motion_capital(k, c, alpha, delta, g, n)"
   ]
  },
  {
   "cell_type": "code",
   "execution_count": 10,
   "metadata": {
    "collapsed": false
   },
   "outputs": [
    {
     "data": {
      "text/plain": [
       "-1.6620379104977678"
      ]
     },
     "execution_count": 10,
     "metadata": {},
     "output_type": "execute_result"
    }
   ],
   "source": [
    "# also works for scalars...\n",
    "equation_motion_capital(10.0, 3.0, 0.33, 0.04, 0.02, 0.02)"
   ]
  },
  {
   "cell_type": "code",
   "execution_count": 11,
   "metadata": {
    "collapsed": false
   },
   "outputs": [
    {
     "data": {
      "text/plain": [
       "array([-3.        , -1.67528468, -1.99524768, -2.48576689, -3.05787801,\n",
       "       -3.67948699, -4.33489977, -5.01512716, -5.71448366, -6.4291181 ])"
      ]
     },
     "execution_count": 11,
     "metadata": {},
     "output_type": "execute_result"
    }
   ],
   "source": [
    "# also works for arrays (useful for plotting!)...\n",
    "equation_motion_capital(ks, 3.0, 0.33, 0.04, 0.02, 0.02)"
   ]
  },
  {
   "cell_type": "code",
   "execution_count": 12,
   "metadata": {
    "collapsed": false
   },
   "outputs": [
    {
     "name": "stdout",
     "output_type": "stream",
     "text": [
      "c*(c**(-theta + 1)*c**(theta - 1)*(alpha*k**alpha/k - delta - rho)/theta - g)\n"
     ]
    }
   ],
   "source": [
    "# define the Euler equation\n",
    "mpk = sym.diff(intensive_output(k, alpha), k, 1)\n",
    "crra = -((c * sym.diff(flow_utility(c, theta), c, 2)) /\n",
    "         sym.diff(flow_utility(c, theta), c, 1))\n",
    "\n",
    "c_dot = ((1 / crra) * (mpk - delta - rho) - g) * c\n",
    "print c_dot"
   ]
  },
  {
   "cell_type": "code",
   "execution_count": 14,
   "metadata": {
    "collapsed": false
   },
   "outputs": [
    {
     "name": "stdout",
     "output_type": "stream",
     "text": [
      "{'k': -c - k*(delta + g + n) + k**alpha, 'c': c*(c**(-theta + 1)*c**(theta - 1)*(alpha*k**alpha/k - delta - rho)/theta - g)}\n"
     ]
    }
   ],
   "source": [
    "# create a dictionary representing the RHS of our model\n",
    "k_dot = equation_motion_capital(k, c, alpha, delta, g, n)\n",
    "rhs = {'k': k_dot, 'c': c_dot}\n",
    "print rhs"
   ]
  },
  {
   "cell_type": "markdown",
   "metadata": {},
   "source": [
    "## Boundary conditions\n",
    "Now we need to derive the steady state value for capital and consumption (per unit effective labor)...\n",
    "\\begin{align}\n",
    "    0 =& k(t)^{\\alpha} - c(t) - (g + n + \\delta)k(t),\\\\\n",
    "    0 =& \\Bigg[\\frac{1}{\\theta} \\bigg[\\alpha k(t)^{\\alpha - 1} - \\delta - \\rho - \\theta g\\bigg]\\Bigg]c(t)\n",
    "\\end{align}\n",
    "\n",
    "Here we go, first for capital,...\n",
    "\\begin{align}\n",
    "    0 =& \\Bigg[\\frac{1}{\\theta} \\bigg[\\alpha k(t)^{\\alpha - 1} - \\delta - \\rho - \\theta g\\bigg]\\Bigg]c(t) \\\\\n",
    "    0 =& \\alpha k(t)^{\\alpha - 1} - \\delta - \\rho - \\theta g \\\\\n",
    "    \\alpha k(t)^{\\alpha - 1} =& \\delta + \\rho + \\theta g \\\\\n",
    "    k(t)^{\\alpha - 1} =& \\frac{\\delta + \\rho + \\theta g}{\\alpha} \\\\\n",
    "    k^* =& \\Bigg(\\frac{\\delta + \\rho + \\theta g}{\\alpha}\\Bigg)^{\\frac{1}{\\alpha - 1}} \\\\\n",
    "    k^* =& \\Bigg(\\frac{\\alpha}{\\delta + \\rho + \\theta g}\\Bigg)^{\\frac{1}{1 - \\alpha}}\n",
    "\\end{align}"
   ]
  },
  {
   "cell_type": "code",
   "execution_count": 15,
   "metadata": {
    "collapsed": false
   },
   "outputs": [
    {
     "name": "stdout",
     "output_type": "stream",
     "text": [
      "(alpha/(delta + g*theta + rho))**(1/(-alpha + 1))\n"
     ]
    }
   ],
   "source": [
    "# define the steady state value for capital (per unit effective labor)\n",
    "def steady_state_capital(alpha, delta, theta, rho, g, n):\n",
    "    \"\"\"Equilibrium value of capital (per unit effective labor).\"\"\"\n",
    "    return (alpha / (delta + rho + theta * g))**(1 / (1 - alpha))\n",
    "\n",
    "# call the function with symbolic parameters...and get a symbolic result!\n",
    "print steady_state_capital(alpha, delta, theta, rho, g, n)"
   ]
  },
  {
   "cell_type": "markdown",
   "metadata": {},
   "source": [
    "...next we do the same for consumption...\n",
    "\n",
    "\\begin{align}\n",
    "    0 =& k^{*\\alpha} - c^* - (g + n + \\delta)k^* \\\\\n",
    "    c^* =& k^{*\\alpha} - (g + n + \\delta)k^*\n",
    "\\end{align}"
   ]
  },
  {
   "cell_type": "code",
   "execution_count": 16,
   "metadata": {
    "collapsed": false
   },
   "outputs": [
    {
     "name": "stdout",
     "output_type": "stream",
     "text": [
      "-(alpha/(delta + g*theta + rho))**(1/(-alpha + 1))*(delta + g + n) + ((alpha/(delta + g*theta + rho))**(1/(-alpha + 1)))**alpha\n"
     ]
    }
   ],
   "source": [
    "# define the steady state value for consumption (per unit effective labor)\n",
    "def steady_state_consumption(alpha, delta, theta, rho, g, n):\n",
    "    \"\"\"Equilibrium value for consumption (per unit effective labor).\"\"\"\n",
    "    k_star = steady_state_capital(alpha, delta, theta, rho, g, n)\n",
    "    return k_star**alpha - (g + n + delta) * k_star\n",
    "\n",
    "# call function with symbolic parameters...get a symbolic result!\n",
    "print steady_state_consumption(alpha, delta, theta, rho, g, n)"
   ]
  },
  {
   "cell_type": "code",
   "execution_count": 18,
   "metadata": {
    "collapsed": true
   },
   "outputs": [],
   "source": [
    "# finally we need to define some parameters...\n",
    "params = {'alpha': 0.33, 'delta': 0.04, 'theta': 1.05, 'rho': 0.05,\n",
    "          'g': 0.02, 'n': 0.02}"
   ]
  },
  {
   "cell_type": "code",
   "execution_count": 19,
   "metadata": {
    "collapsed": false
   },
   "outputs": [
    {
     "data": {
      "text/plain": [
       "1.303501661180578"
      ]
     },
     "execution_count": 19,
     "metadata": {},
     "output_type": "execute_result"
    }
   ],
   "source": [
    "# call function with numeric inputs and get a numeric result!\n",
    "steady_state_consumption(**params)"
   ]
  },
  {
   "cell_type": "code",
   "execution_count": 20,
   "metadata": {
    "collapsed": false
   },
   "outputs": [
    {
     "name": "stdout",
     "output_type": "stream",
     "text": [
      "{'upper': [c + (alpha/(delta + g*theta + rho))**(1/(-alpha + 1))*(delta + g + n) - ((alpha/(delta + g*theta + rho))**(1/(-alpha + 1)))**alpha], 'lower': [k - 1.0]}\n"
     ]
    }
   ],
   "source": [
    "# define some boundary conditions\n",
    "k0 = 1.0\n",
    "c_star = steady_state_consumption(alpha, delta, theta, rho, g, n)\n",
    "\n",
    "bcs = {'lower': [k - k0],\n",
    "       'upper': [c - c_star]}\n",
    "print bcs"
   ]
  },
  {
   "cell_type": "code",
   "execution_count": null,
   "metadata": {
    "collapsed": true
   },
   "outputs": [],
   "source": []
  },
  {
   "cell_type": "markdown",
   "metadata": {},
   "source": [
    "## Using pyCollocation"
   ]
  },
  {
   "cell_type": "code",
   "execution_count": 21,
   "metadata": {
    "collapsed": true
   },
   "outputs": [],
   "source": [
    "model = pycollocation.SymbolicBoundaryValueProblem(dependent_vars=['k', 'c'],\n",
    "                                                   independent_var='t',\n",
    "                                                   rhs=rhs,\n",
    "                                                   boundary_conditions=bcs,\n",
    "                                                   params=params)"
   ]
  },
  {
   "cell_type": "code",
   "execution_count": 22,
   "metadata": {
    "collapsed": true
   },
   "outputs": [],
   "source": [
    "solver = pycollocation.OrthogonalPolynomialSolver(model)"
   ]
  },
  {
   "cell_type": "code",
   "execution_count": 23,
   "metadata": {
    "collapsed": false
   },
   "outputs": [
    {
     "data": {
      "text/plain": [
       "5.084580947867504"
      ]
     },
     "execution_count": 23,
     "metadata": {},
     "output_type": "execute_result"
    }
   ],
   "source": [
    "# now this works for numerical values as well!\n",
    "steady_state_capital(**params)"
   ]
  },
  {
   "cell_type": "code",
   "execution_count": 24,
   "metadata": {
    "collapsed": false
   },
   "outputs": [],
   "source": [
    "# define our domain of approximation\n",
    "domain = [0.0, 100.0]\n",
    "\n",
    "# initial guess for capital\n",
    "N = 1000\n",
    "ts = np.linspace(domain[0], domain[1], N)\n",
    "ks = steady_state_capital(**params) - (steady_state_capital(**params) - k0) * np.exp(-ts)\n",
    "initial_capital_polynomial = np.polynomial.Chebyshev.fit(ts, ks, 35, domain)\n",
    "\n",
    "# initial guess for consumption\n",
    "cs = np.log(ks)\n",
    "initial_consumption_polynomial = np.polynomial.Chebyshev.fit(ts, cs, 35, domain)\n",
    "\n",
    "\n",
    "# create a dictionary of the coefs of our polynomials\n",
    "initial_guess = {'k': initial_capital_polynomial.coef,\n",
    "                 'c': initial_consumption_polynomial.coef}"
   ]
  },
  {
   "cell_type": "code",
   "execution_count": 25,
   "metadata": {
    "collapsed": false
   },
   "outputs": [],
   "source": [
    "solver.solve(kind=\"Chebyshev\",\n",
    "             coefs_dict=initial_guess,\n",
    "             domain=domain)"
   ]
  },
  {
   "cell_type": "code",
   "execution_count": 26,
   "metadata": {
    "collapsed": false
   },
   "outputs": [
    {
     "data": {
      "text/plain": [
       "array([  4.37225405e+00,   1.29407761e+00,  -9.72862388e-01,\n",
       "         6.08921291e-01,  -3.18201558e-01,   1.37285311e-01,\n",
       "        -4.62850603e-02,   9.22882149e-03,   2.25265042e-03,\n",
       "        -4.07400446e-03,   3.21211997e-03,  -2.07493839e-03,\n",
       "         1.24105452e-03,  -7.22117259e-04,   4.18592303e-04,\n",
       "        -2.44435865e-04,   1.44396572e-04,  -8.63551433e-05,\n",
       "         5.22449111e-05,  -3.19390928e-05,   1.97071509e-05,\n",
       "        -1.22604932e-05,   7.68428096e-06,  -4.84843707e-06,\n",
       "         3.07792049e-06,  -1.96514198e-06,   1.26162843e-06,\n",
       "        -8.14605214e-07,   5.29424577e-07,  -3.47072254e-07,\n",
       "         2.30581992e-07,  -1.56777978e-07,   1.10980589e-07,\n",
       "        -8.39531523e-08,   4.59638013e-08,  -9.06479008e-09,\n",
       "         1.17873943e+00,   2.28498625e-01,  -1.76366595e-01,\n",
       "         1.16303877e-01,  -6.68076608e-02,   3.42707361e-02,\n",
       "        -1.62089828e-02,   7.36702581e-03,  -3.37782841e-03,\n",
       "         1.63268451e-03,  -8.50106889e-04,   4.74261610e-04,\n",
       "        -2.78167075e-04,   1.68519207e-04,  -1.04250868e-04,\n",
       "         6.54391550e-05,  -4.15333400e-05,   2.65970516e-05,\n",
       "        -1.71602113e-05,   1.11430973e-05,  -7.27662727e-06,\n",
       "         4.77545478e-06,  -3.14799327e-06,   2.08356382e-06,\n",
       "        -1.38419441e-06,   9.22823718e-07,  -6.17385953e-07,\n",
       "         4.14581242e-07,  -2.79623257e-07,   1.89714432e-07,\n",
       "        -1.29870322e-07,   9.02374864e-08,  -6.43794546e-08,\n",
       "         4.78487299e-08,  -3.82339792e-08,   1.72756853e-08])"
      ]
     },
     "execution_count": 26,
     "metadata": {},
     "output_type": "execute_result"
    }
   ],
   "source": [
    "solver.result.x"
   ]
  },
  {
   "cell_type": "code",
   "execution_count": 27,
   "metadata": {
    "collapsed": true
   },
   "outputs": [],
   "source": [
    "# now create a visualizer for plot the solution...\n",
    "visualizer = pycollocation.Visualizer(solver)"
   ]
  },
  {
   "cell_type": "code",
   "execution_count": 28,
   "metadata": {
    "collapsed": false
   },
   "outputs": [
    {
     "data": {
      "image/png": "[encoded data removed]",
      "text/plain": [
       "<matplotlib.figure.Figure at 0x113d3e350>"
      ]
     },
     "metadata": {},
     "output_type": "display_data"
    }
   ],
   "source": [
    "# plot the solution\n",
    "visualizer.interpolation_knots = np.linspace(domain[0], domain[1], N)\n",
    "visualizer.solution.plot()\n",
    "plt.show()"
   ]
  },
  {
   "cell_type": "code",
   "execution_count": 29,
   "metadata": {
    "collapsed": false
   },
   "outputs": [
    {
     "data": {
      "image/png": "[encoded data removed]",
      "text/plain": [
       "<matplotlib.figure.Figure at 0x113dba0d0>"
      ]
     },
     "metadata": {},
     "output_type": "display_data"
    }
   ],
   "source": [
    "# plot the normalized residuals (they should be small everywhere!)\n",
    "visualizer.normalized_residuals.plot(logy=True)\n",
    "plt.show()"
   ]
  },
  {
   "cell_type": "code",
   "execution_count": null,
   "metadata": {
    "collapsed": true
   },
   "outputs": [],
   "source": []
  }
 ],
 "metadata": {
  "kernelspec": {
   "display_name": "Python 2",
   "language": "python",
   "name": "python2"
  },
  "language_info": {
   "codemirror_mode": {
    "name": "ipython",
    "version": 2
   },
   "file_extension": ".py",
   "mimetype": "text/x-python",
   "name": "python",
   "nbconvert_exporter": "python",
   "pygments_lexer": "ipython2",
   "version": "2.7.10"
  }
 },
 "nbformat": 4,
 "nbformat_minor": 0
}
